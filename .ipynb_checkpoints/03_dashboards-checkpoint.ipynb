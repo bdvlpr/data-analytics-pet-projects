{
 "cells": [
  {
   "cell_type": "code",
   "execution_count": null,
   "id": "8937852c-4869-4e22-9f15-573216d55b9c",
   "metadata": {},
   "outputs": [],
   "source": [
    "# 1. Подключимся к базе\n",
    "import sqlite3\n",
    "import pandas as pd\n",
    "import matplotlib.pyplot as plt\n",
    "\n",
    "conn = sqlite3.connect(\"vk_cleaned.db\")"
   ]
  },
  {
   "cell_type": "code",
   "execution_count": null,
   "id": "24d4f734-edea-4f41-9292-b30c649401ed",
   "metadata": {},
   "outputs": [],
   "source": [
    "# 2. Загрузим данные через SQL\n",
    "df = pd.read_sql_query(\"SELECT * FROM posts\", conn)\n",
    "df.head()"
   ]
  },
  {
   "cell_type": "code",
   "execution_count": 1,
   "id": "901745c2-1381-4e16-80cb-fd644431ab99",
   "metadata": {},
   "outputs": [
    {
     "ename": "NameError",
     "evalue": "name 'plt' is not defined",
     "output_type": "error",
     "traceback": [
      "\u001b[31m---------------------------------------------------------------------------\u001b[39m",
      "\u001b[31mNameError\u001b[39m                                 Traceback (most recent call last)",
      "\u001b[36mCell\u001b[39m\u001b[36m \u001b[39m\u001b[32mIn[1]\u001b[39m\u001b[32m, line 4\u001b[39m\n\u001b[32m      1\u001b[39m \u001b[38;5;66;03m# 3. Построем графики\u001b[39;00m\n\u001b[32m      2\u001b[39m \n\u001b[32m      3\u001b[39m \u001b[38;5;66;03m# Распределение длины текста\u001b[39;00m\n\u001b[32m----> \u001b[39m\u001b[32m4\u001b[39m \u001b[43mplt\u001b[49m.figure(figsize=(\u001b[32m8\u001b[39m,\u001b[32m5\u001b[39m))\n\u001b[32m      5\u001b[39m df[\u001b[33m'\u001b[39m\u001b[33mtext_len\u001b[39m\u001b[33m'\u001b[39m].hist(bins=\u001b[32m30\u001b[39m)\n\u001b[32m      6\u001b[39m plt.title(\u001b[33m\"\u001b[39m\u001b[33mРаспределение длины текста постов\u001b[39m\u001b[33m\"\u001b[39m)\n",
      "\u001b[31mNameError\u001b[39m: name 'plt' is not defined"
     ]
    }
   ],
   "source": [
    "# 3. Построем графики\n",
    "\n",
    "# Распределение длины текста\n",
    "plt.figure(figsize=(8,5))\n",
    "df['text_len'].hist(bins=30)\n",
    "plt.title(\"Распределение длины текста постов\")\n",
    "plt.xlabel(\"Длина текста\")\n",
    "plt.ylabel(\"Количество постов\")\n",
    "plt.show()\n",
    "\n",
    "#Лайки против просмотров\n",
    "plt.figure(figsize=(8,5))\n",
    "plt.scatter(df['views'], df['likes'], alpha=0.5)\n",
    "plt.title(\"Лайки vs Просмотры\")\n",
    "plt.xlabel(\"Просмотры\")\n",
    "plt.ylabel(\"Лайки\")\n",
    "plt.show()\n",
    "\n",
    "#Топ-10 постов по репостам\n",
    "top_reposts = df.nlargest(10, 'reposts')\n",
    "plt.figure(figsize=(10,5))\n",
    "plt.bar(top_reposts.index.astype(str), top_reposts['reposts'])\n",
    "plt.title(\"Топ-10 постов по репостам\")\n",
    "plt.xlabel(\"ID поста\")\n",
    "plt.ylabel(\"Репосты\")\n",
    "plt.show()\n",
    "\n",
    "#Динамика активности (если есть даты)\n",
    "df['date'] = pd.to_datetime(df['date'], errors='coerce')\n",
    "daily_likes = df.groupby(df['date'].dt.date)['likes'].sum()\n",
    "\n",
    "plt.figure(figsize=(12,5))\n",
    "daily_likes.plot()\n",
    "plt.title(\"Динамика лайков по датам\")\n",
    "plt.xlabel(\"Дата\")\n",
    "plt.ylabel(\"Лайки\")\n",
    "plt.xticks(rotation=45)\n",
    "plt.show()\n"
   ]
  },
  {
   "cell_type": "code",
   "execution_count": null,
   "id": "82c3d630-d96f-4ca0-bdd8-bc6a1248e187",
   "metadata": {},
   "outputs": [],
   "source": [
    "# Закрой соединение\n",
    "conn.close()\n"
   ]
  }
 ],
 "metadata": {
  "kernelspec": {
   "display_name": "Python 3 (ipykernel)",
   "language": "python",
   "name": "python3"
  },
  "language_info": {
   "codemirror_mode": {
    "name": "ipython",
    "version": 3
   },
   "file_extension": ".py",
   "mimetype": "text/x-python",
   "name": "python",
   "nbconvert_exporter": "python",
   "pygments_lexer": "ipython3",
   "version": "3.13.2"
  }
 },
 "nbformat": 4,
 "nbformat_minor": 5
}
