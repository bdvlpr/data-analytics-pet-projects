{
 "cells": [
  {
   "cell_type": "code",
   "execution_count": 10,
   "id": "00ee97c1-516a-46a8-b76c-4d50dece1053",
   "metadata": {},
   "outputs": [],
   "source": [
    "import pandas as pd\n",
    "\n",
    "def clean_data(path):\n",
    "    df = pd.read_csv(path)\n",
    "    # ... тут вся очистка ...\n",
    "    return df"
   ]
  },
  {
   "cell_type": "code",
   "execution_count": 11,
   "id": "3b4da8a8-d4c5-4744-b58c-abc4014ad7fa",
   "metadata": {},
   "outputs": [],
   "source": [
    "df = pd.read_csv('vk_cleaned.csv')"
   ]
  },
  {
   "cell_type": "code",
   "execution_count": 12,
   "id": "ab6a78b3-0908-4c34-9ac2-165e4c8812b2",
   "metadata": {},
   "outputs": [
    {
     "name": "stdout",
     "output_type": "stream",
     "text": [
      "Requirement already satisfied: sqlalchemy in c:\\users\\bulat\\appdata\\local\\programs\\python\\python313\\lib\\site-packages (2.0.43)\n",
      "Requirement already satisfied: greenlet>=1 in c:\\users\\bulat\\appdata\\local\\programs\\python\\python313\\lib\\site-packages (from sqlalchemy) (3.2.4)\n",
      "Requirement already satisfied: typing-extensions>=4.6.0 in c:\\users\\bulat\\appdata\\local\\programs\\python\\python313\\lib\\site-packages (from sqlalchemy) (4.14.1)\n"
     ]
    },
    {
     "name": "stderr",
     "output_type": "stream",
     "text": [
      "\n",
      "[notice] A new release of pip is available: 24.3.1 -> 25.2\n",
      "[notice] To update, run: C:\\Users\\Bulat\\AppData\\Local\\Programs\\Python\\Python313\\python.exe -m pip install --upgrade pip\n"
     ]
    }
   ],
   "source": [
    "# 2. Установим библиотеку для работы с SQLite\n",
    "!pip install sqlalchemy"
   ]
  },
  {
   "cell_type": "code",
   "execution_count": 13,
   "id": "734c3919-2b66-49fd-9a8e-797d433b529c",
   "metadata": {},
   "outputs": [
    {
     "name": "stdout",
     "output_type": "stream",
     "text": [
      "Данные успешно загружены в vk_cleaned.db\n"
     ]
    }
   ],
   "source": [
    "# Создать базу и загрузить туда данные\n",
    "from sqlalchemy import create_engine\n",
    "\n",
    "# создаём подключение к базе SQLite (файл создастся автоматически)\n",
    "engine = create_engine('sqlite:///vk_cleaned.db', echo=False)\n",
    "\n",
    "# записываем DataFrame df в таблицу vk_posts (если уже есть — перезапишем)\n",
    "df.to_sql('vk_posts', con=engine, if_exists='replace', index=False)\n",
    "\n",
    "print(\"Данные успешно загружены в vk_cleaned.db\")"
   ]
  },
  {
   "cell_type": "code",
   "execution_count": 14,
   "id": "b10263d6-2977-4e34-90ef-0947ac95a8b3",
   "metadata": {},
   "outputs": [
    {
     "name": "stdout",
     "output_type": "stream",
     "text": [
      "   text_len  likes  views\n",
      "0       385   1847      0\n",
      "1       149   1531      0\n",
      "2         7   1113   9217\n",
      "3       255    981  73404\n",
      "4       221    940  71609\n"
     ]
    }
   ],
   "source": [
    "# пример SQL-запроса — топ-5 постов по лайкам\n",
    "query = \"SELECT text_len, likes, views FROM vk_posts ORDER BY likes DESC LIMIT 5\"\n",
    "result = pd.read_sql(query, engine)\n",
    "print(result)"
   ]
  },
  {
   "cell_type": "code",
   "execution_count": 15,
   "id": "e9f0ab60-e1db-4f51-82f8-bfe4336b0864",
   "metadata": {},
   "outputs": [],
   "source": [
    "import sqlite3\n",
    "\n",
    "# Создаём подключение к файлу базы данных (если файла нет — создаст)\n",
    "conn = sqlite3.connect(\"vk_cleaned.db\")\n",
    "cursor = conn.cursor()"
   ]
  },
  {
   "cell_type": "code",
   "execution_count": 16,
   "id": "cd4ff1d8-5aed-49e4-b3a5-73b7ee23063f",
   "metadata": {},
   "outputs": [],
   "source": [
    "cursor.execute('''\n",
    "CREATE TABLE IF NOT EXISTS posts (\n",
    "    id INTEGER PRIMARY KEY AUTOINCREMENT,\n",
    "    date TEXT,\n",
    "    text TEXT,\n",
    "    text_len INTEGER,\n",
    "    comments INTEGER,\n",
    "    likes INTEGER,\n",
    "    reposts INTEGER,\n",
    "    views INTEGER,\n",
    "    is_pinned TEXT,\n",
    "    attachments TEXT,\n",
    "    post_source TEXT\n",
    ")\n",
    "''')\n",
    "conn.commit()\n"
   ]
  },
  {
   "cell_type": "code",
   "execution_count": 17,
   "id": "4b08d30d-62a2-4822-8faf-e3839a6b00d6",
   "metadata": {},
   "outputs": [
    {
     "name": "stdout",
     "output_type": "stream",
     "text": [
      "Данные успешно записаны в базу!\n"
     ]
    }
   ],
   "source": [
    "# Используем Pandas, чтобы автоматизировать вставку:\n",
    "\n",
    "import pandas as pd\n",
    "\n",
    "# Загружаем уже очищенный CSV\n",
    "df = pd.read_csv(\"vk_cleaned.csv\")\n",
    "\n",
    "# Записываем в базу SQLite\n",
    "df.to_sql(\"posts\", conn, if_exists=\"replace\", index=False)\n",
    "print(\"Данные успешно записаны в базу!\")\n"
   ]
  },
  {
   "cell_type": "code",
   "execution_count": 18,
   "id": "d417b36a-0799-4390-b28d-9815fbb85959",
   "metadata": {},
   "outputs": [
    {
     "name": "stdout",
     "output_type": "stream",
     "text": [
      "Всего записей в базе: 3966\n",
      "('2021-11-01 10:32:31', 417, 63145)\n",
      "('2022-01-02 10:18:21', 26, 17319)\n",
      "('2021-12-31 10:00:22', 87, 21783)\n",
      "('2021-12-29 07:00:40', 103, 24419)\n",
      "('2021-12-28 14:16:42', 28, 19849)\n"
     ]
    }
   ],
   "source": [
    "# Проверяем, что всё записалось\n",
    "cursor.execute(\"SELECT COUNT(*) FROM posts\")\n",
    "print(\"Всего записей в базе:\", cursor.fetchone()[0])\n",
    "\n",
    "cursor.execute(\"SELECT date, likes, views FROM posts LIMIT 5\")\n",
    "for row in cursor.fetchall():\n",
    "    print(row)"
   ]
  },
  {
   "cell_type": "code",
   "execution_count": 19,
   "id": "52ba033a-bfdb-480c-ac2b-d80d4b0b1b18",
   "metadata": {},
   "outputs": [],
   "source": [
    "# Закроем соединение после работы\n",
    "conn.close()"
   ]
  },
  {
   "cell_type": "code",
   "execution_count": null,
   "id": "93809907-0fb4-4202-8533-c69ce03ab46d",
   "metadata": {},
   "outputs": [],
   "source": []
  }
 ],
 "metadata": {
  "kernelspec": {
   "display_name": "Python 3 (ipykernel)",
   "language": "python",
   "name": "python3"
  },
  "language_info": {
   "codemirror_mode": {
    "name": "ipython",
    "version": 3
   },
   "file_extension": ".py",
   "mimetype": "text/x-python",
   "name": "python",
   "nbconvert_exporter": "python",
   "pygments_lexer": "ipython3",
   "version": "3.13.2"
  }
 },
 "nbformat": 4,
 "nbformat_minor": 5
}
